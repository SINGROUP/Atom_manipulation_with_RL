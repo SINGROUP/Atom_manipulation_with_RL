{
 "cells": [
  {
   "cell_type": "markdown",
   "metadata": {},
   "source": [
    "# Multiple Atom Building\n",
    "The notebook goes through the process to build multi-atom structures, including defining the design, dividing the building process into individual atom manipulation episodes through assignment and path planning algorithms, and running a trained RL agent."
   ]
  },
  {
   "cell_type": "markdown",
   "metadata": {},
   "source": [
    "### Importing modules"
   ]
  },
  {
   "cell_type": "code",
   "execution_count": 10,
   "metadata": {},
   "outputs": [
    {
     "name": "stdout",
     "output_type": "stream",
     "text": [
      "cpu\n"
     ]
    }
   ],
   "source": [
    "from matplotlib import pyplot as plt\n",
    "import numpy as np\n",
    "import matplotlib\n",
    "import torch\n",
    "from AMRL import show_reset, show_done, show_step, plot_large_frame\n",
    "from AMRL import Structure_Builder, assignment, Episode_Memory, Createc_Controller, sac_agent\n",
    "import os\n",
    "matplotlib.rcParams['image.cmap'] = 'gray'\n",
    "device = torch.device('cuda:0' if torch.cuda.is_available() else 'cpu')\n",
    "print(device)"
   ]
  },
  {
   "cell_type": "markdown",
   "metadata": {},
   "source": [
    "### Define RL_operation function\n",
    "This function is used to execute atom manipulation with a trained RL agent"
   ]
  },
  {
   "cell_type": "code",
   "execution_count": 11,
   "metadata": {},
   "outputs": [],
   "source": [
    "def RL_operation(env, agent, atom_chosen, next_destination_nm, anchor_chosen, offset_nm, len_nm, i_episode, max_steps=5):\n",
    "    \"\"\"\n",
    "    Execute atom manipulation with a trained RL agent\n",
    "\n",
    "    Parameters\n",
    "    ----------\n",
    "    env: Structure_Builder\n",
    "    \n",
    "    agent: sac_agent\n",
    "            \n",
    "    atom_chosen: array_like\n",
    "            coordinate of the atom to be manipulated\n",
    "    \n",
    "    next_destination_nm: array_like\n",
    "            target position\n",
    "            \n",
    "    anchor_chosen: array_like\n",
    "            anchor atom position\n",
    "    \n",
    "    episode_start: int\n",
    "            Index to use for the starting episode\n",
    "    \n",
    "    offset_nm: array_like\n",
    "            The offset coordinate to use for STM scan\n",
    "    \n",
    "    len_nm: float\n",
    "            The image size to use for STM scan\n",
    "    \n",
    "    i_episode: int\n",
    "            Episode index used for saving data\n",
    "    \n",
    "    max_steps: int\n",
    "            Maximum steps in an episode\n",
    "            \n",
    "    Returns\n",
    "    -------\n",
    "    env.atom_absolute_nm: array_like\n",
    "            Atom position\n",
    "            \n",
    "    env.dist_destination: array_like\n",
    "            precision\n",
    "    \n",
    "    \"\"\"\n",
    "    done = False\n",
    "    state, done, info = env.reset(next_destination_nm, anchor_chosen, offset_nm, len_nm, large_len_nm)\n",
    "    show_reset(env.img_info, env.atom_start_absolute_nm, env.destination_absolute_nm)\n",
    "    episode_memory.update_memory_reset(env.img_info, i_episode, info)\n",
    "    if done:\n",
    "        return env.atom_absolute_nm, env.dist_destination\n",
    "    for step in range(max_steps):\n",
    "        print('step:', step)\n",
    "        if np.linalg.norm(env.atom_absolute_nm - atom_chosen)>2:\n",
    "            print('identify the wrong atom')\n",
    "            break\n",
    "        action = agent.select_action(state)\n",
    "        next_state, reward, done, info = env.step(action)\n",
    "        mask = float(not done)\n",
    "        episode_memory.update_memory_step(state, action, next_state, reward, done, info)\n",
    "        state=next_state\n",
    "        print('precision:{:3f} nm'.format(env.dist_destination))\n",
    "        show_step(env.img_info, info['start_nm']+env.atom_absolute_nm, info['end_nm']+env.atom_absolute_nm,env.atom_absolute_nm, \n",
    "                  env.atom_start_absolute_nm, env.destination_absolute_nm, \n",
    "                  action[4]*env.max_mvolt, action[5]*env.max_pcurrent_to_mvolt_ratio*action[4]*env.max_mvolt)\n",
    "        if done:\n",
    "            episode_memory.update_memory_done(env.img_info, env.atom_absolute_nm, np.array([0,0]))\n",
    "            episode_memory.save_memory(folder_name)\n",
    "            break\n",
    "    return env.atom_absolute_nm, env.dist_destination"
   ]
  },
  {
   "cell_type": "markdown",
   "metadata": {},
   "source": [
    "### Load a trained RL agent and create a Episode_Memory object"
   ]
  },
  {
   "cell_type": "code",
   "execution_count": 12,
   "metadata": {},
   "outputs": [
    {
     "ename": "FileNotFoundError",
     "evalue": "[Errno 2] No such file or directory: 'C:/LocalUserData/User-data/phys-asp-lab/auto_manipulation/training_Ag_retrain/_critic_2640.pth'",
     "output_type": "error",
     "traceback": [
      "\u001b[0;31m---------------------------------------------------------------------------\u001b[0m",
      "\u001b[0;31mFileNotFoundError\u001b[0m                         Traceback (most recent call last)",
      "\u001b[0;32m/var/folders/mm/95xps4kj035cyly7yx9l_0p40000gn/T/ipykernel_35329/3235104428.py\u001b[0m in \u001b[0;36m<module>\u001b[0;34m\u001b[0m\n\u001b[1;32m      6\u001b[0m                  gamma=0.9, tau=0.005, alpha=1)\n\u001b[1;32m      7\u001b[0m \u001b[0;34m\u001b[0m\u001b[0m\n\u001b[0;32m----> 8\u001b[0;31m \u001b[0magent\u001b[0m\u001b[0;34m.\u001b[0m\u001b[0mcritic\u001b[0m\u001b[0;34m.\u001b[0m\u001b[0mload_state_dict\u001b[0m\u001b[0;34m(\u001b[0m\u001b[0mtorch\u001b[0m\u001b[0;34m.\u001b[0m\u001b[0mload\u001b[0m\u001b[0;34m(\u001b[0m\u001b[0;34m'{}/_critic_{}.pth'\u001b[0m\u001b[0;34m.\u001b[0m\u001b[0mformat\u001b[0m\u001b[0;34m(\u001b[0m\u001b[0mweight_folder_name\u001b[0m\u001b[0;34m,\u001b[0m \u001b[0mepisode\u001b[0m\u001b[0;34m)\u001b[0m\u001b[0;34m)\u001b[0m\u001b[0;34m)\u001b[0m\u001b[0;34m\u001b[0m\u001b[0;34m\u001b[0m\u001b[0m\n\u001b[0m\u001b[1;32m      9\u001b[0m \u001b[0magent\u001b[0m\u001b[0;34m.\u001b[0m\u001b[0mpolicy\u001b[0m\u001b[0;34m.\u001b[0m\u001b[0mload_state_dict\u001b[0m\u001b[0;34m(\u001b[0m\u001b[0mtorch\u001b[0m\u001b[0;34m.\u001b[0m\u001b[0mload\u001b[0m\u001b[0;34m(\u001b[0m\u001b[0;34m'{}/_policy_{}.pth'\u001b[0m\u001b[0;34m.\u001b[0m\u001b[0mformat\u001b[0m\u001b[0;34m(\u001b[0m\u001b[0mweight_folder_name\u001b[0m\u001b[0;34m,\u001b[0m \u001b[0mepisode\u001b[0m\u001b[0;34m)\u001b[0m\u001b[0;34m)\u001b[0m\u001b[0;34m)\u001b[0m\u001b[0;34m\u001b[0m\u001b[0;34m\u001b[0m\u001b[0m\n\u001b[1;32m     10\u001b[0m \u001b[0magent\u001b[0m\u001b[0;34m.\u001b[0m\u001b[0malpha\u001b[0m \u001b[0;34m=\u001b[0m \u001b[0mtorch\u001b[0m\u001b[0;34m.\u001b[0m\u001b[0mload\u001b[0m\u001b[0;34m(\u001b[0m\u001b[0;34m'{}/_alpha_{}.pth'\u001b[0m\u001b[0;34m.\u001b[0m\u001b[0mformat\u001b[0m\u001b[0;34m(\u001b[0m\u001b[0mweight_folder_name\u001b[0m\u001b[0;34m,\u001b[0m \u001b[0mepisode\u001b[0m\u001b[0;34m)\u001b[0m\u001b[0;34m)\u001b[0m\u001b[0;34m\u001b[0m\u001b[0;34m\u001b[0m\u001b[0m\n",
      "\u001b[0;32m/usr/local/lib/python3.8/site-packages/torch/serialization.py\u001b[0m in \u001b[0;36mload\u001b[0;34m(f, map_location, pickle_module, **pickle_load_args)\u001b[0m\n\u001b[1;32m    592\u001b[0m         \u001b[0mpickle_load_args\u001b[0m\u001b[0;34m[\u001b[0m\u001b[0;34m'encoding'\u001b[0m\u001b[0;34m]\u001b[0m \u001b[0;34m=\u001b[0m \u001b[0;34m'utf-8'\u001b[0m\u001b[0;34m\u001b[0m\u001b[0;34m\u001b[0m\u001b[0m\n\u001b[1;32m    593\u001b[0m \u001b[0;34m\u001b[0m\u001b[0m\n\u001b[0;32m--> 594\u001b[0;31m     \u001b[0;32mwith\u001b[0m \u001b[0m_open_file_like\u001b[0m\u001b[0;34m(\u001b[0m\u001b[0mf\u001b[0m\u001b[0;34m,\u001b[0m \u001b[0;34m'rb'\u001b[0m\u001b[0;34m)\u001b[0m \u001b[0;32mas\u001b[0m \u001b[0mopened_file\u001b[0m\u001b[0;34m:\u001b[0m\u001b[0;34m\u001b[0m\u001b[0;34m\u001b[0m\u001b[0m\n\u001b[0m\u001b[1;32m    595\u001b[0m         \u001b[0;32mif\u001b[0m \u001b[0m_is_zipfile\u001b[0m\u001b[0;34m(\u001b[0m\u001b[0mopened_file\u001b[0m\u001b[0;34m)\u001b[0m\u001b[0;34m:\u001b[0m\u001b[0;34m\u001b[0m\u001b[0;34m\u001b[0m\u001b[0m\n\u001b[1;32m    596\u001b[0m             \u001b[0;31m# The zipfile reader is going to advance the current file position.\u001b[0m\u001b[0;34m\u001b[0m\u001b[0;34m\u001b[0m\u001b[0;34m\u001b[0m\u001b[0m\n",
      "\u001b[0;32m/usr/local/lib/python3.8/site-packages/torch/serialization.py\u001b[0m in \u001b[0;36m_open_file_like\u001b[0;34m(name_or_buffer, mode)\u001b[0m\n\u001b[1;32m    228\u001b[0m \u001b[0;32mdef\u001b[0m \u001b[0m_open_file_like\u001b[0m\u001b[0;34m(\u001b[0m\u001b[0mname_or_buffer\u001b[0m\u001b[0;34m,\u001b[0m \u001b[0mmode\u001b[0m\u001b[0;34m)\u001b[0m\u001b[0;34m:\u001b[0m\u001b[0;34m\u001b[0m\u001b[0;34m\u001b[0m\u001b[0m\n\u001b[1;32m    229\u001b[0m     \u001b[0;32mif\u001b[0m \u001b[0m_is_path\u001b[0m\u001b[0;34m(\u001b[0m\u001b[0mname_or_buffer\u001b[0m\u001b[0;34m)\u001b[0m\u001b[0;34m:\u001b[0m\u001b[0;34m\u001b[0m\u001b[0;34m\u001b[0m\u001b[0m\n\u001b[0;32m--> 230\u001b[0;31m         \u001b[0;32mreturn\u001b[0m \u001b[0m_open_file\u001b[0m\u001b[0;34m(\u001b[0m\u001b[0mname_or_buffer\u001b[0m\u001b[0;34m,\u001b[0m \u001b[0mmode\u001b[0m\u001b[0;34m)\u001b[0m\u001b[0;34m\u001b[0m\u001b[0;34m\u001b[0m\u001b[0m\n\u001b[0m\u001b[1;32m    231\u001b[0m     \u001b[0;32melse\u001b[0m\u001b[0;34m:\u001b[0m\u001b[0;34m\u001b[0m\u001b[0;34m\u001b[0m\u001b[0m\n\u001b[1;32m    232\u001b[0m         \u001b[0;32mif\u001b[0m \u001b[0;34m'w'\u001b[0m \u001b[0;32min\u001b[0m \u001b[0mmode\u001b[0m\u001b[0;34m:\u001b[0m\u001b[0;34m\u001b[0m\u001b[0;34m\u001b[0m\u001b[0m\n",
      "\u001b[0;32m/usr/local/lib/python3.8/site-packages/torch/serialization.py\u001b[0m in \u001b[0;36m__init__\u001b[0;34m(self, name, mode)\u001b[0m\n\u001b[1;32m    209\u001b[0m \u001b[0;32mclass\u001b[0m \u001b[0m_open_file\u001b[0m\u001b[0;34m(\u001b[0m\u001b[0m_opener\u001b[0m\u001b[0;34m)\u001b[0m\u001b[0;34m:\u001b[0m\u001b[0;34m\u001b[0m\u001b[0;34m\u001b[0m\u001b[0m\n\u001b[1;32m    210\u001b[0m     \u001b[0;32mdef\u001b[0m \u001b[0m__init__\u001b[0m\u001b[0;34m(\u001b[0m\u001b[0mself\u001b[0m\u001b[0;34m,\u001b[0m \u001b[0mname\u001b[0m\u001b[0;34m,\u001b[0m \u001b[0mmode\u001b[0m\u001b[0;34m)\u001b[0m\u001b[0;34m:\u001b[0m\u001b[0;34m\u001b[0m\u001b[0;34m\u001b[0m\u001b[0m\n\u001b[0;32m--> 211\u001b[0;31m         \u001b[0msuper\u001b[0m\u001b[0;34m(\u001b[0m\u001b[0m_open_file\u001b[0m\u001b[0;34m,\u001b[0m \u001b[0mself\u001b[0m\u001b[0;34m)\u001b[0m\u001b[0;34m.\u001b[0m\u001b[0m__init__\u001b[0m\u001b[0;34m(\u001b[0m\u001b[0mopen\u001b[0m\u001b[0;34m(\u001b[0m\u001b[0mname\u001b[0m\u001b[0;34m,\u001b[0m \u001b[0mmode\u001b[0m\u001b[0;34m)\u001b[0m\u001b[0;34m)\u001b[0m\u001b[0;34m\u001b[0m\u001b[0;34m\u001b[0m\u001b[0m\n\u001b[0m\u001b[1;32m    212\u001b[0m \u001b[0;34m\u001b[0m\u001b[0m\n\u001b[1;32m    213\u001b[0m     \u001b[0;32mdef\u001b[0m \u001b[0m__exit__\u001b[0m\u001b[0;34m(\u001b[0m\u001b[0mself\u001b[0m\u001b[0;34m,\u001b[0m \u001b[0;34m*\u001b[0m\u001b[0margs\u001b[0m\u001b[0;34m)\u001b[0m\u001b[0;34m:\u001b[0m\u001b[0;34m\u001b[0m\u001b[0;34m\u001b[0m\u001b[0m\n",
      "\u001b[0;31mFileNotFoundError\u001b[0m: [Errno 2] No such file or directory: 'C:/LocalUserData/User-data/phys-asp-lab/auto_manipulation/training_Ag_retrain/_critic_2640.pth'"
     ]
    }
   ],
   "source": [
    "#TODO\n",
    "#Set the folder with saved neural network weights\n",
    "weight_folder_name = 'C:/LocalUserData/User-data/phys-asp-lab/auto_manipulation/training_Ag_retrain'\n",
    "episode = 2640 #Set the episode index for the saved neural network weights\n",
    "agent = sac_agent(num_inputs = 4, num_actions = 6, action_space = None, device=device, hidden_size=256, lr=0.0003,\n",
    "                 gamma=0.9, tau=0.005, alpha=1)\n",
    "\n",
    "agent.critic.load_state_dict(torch.load('{}/_critic_{}.pth'.format(weight_folder_name, episode)))\n",
    "agent.policy.load_state_dict(torch.load('{}/_policy_{}.pth'.format(weight_folder_name, episode)))\n",
    "agent.alpha = torch.load('{}/_alpha_{}.pth'.format(weight_folder_name, episode))\n",
    "\n",
    "episode_memory = Episode_Memory()"
   ]
  },
  {
   "cell_type": "markdown",
   "metadata": {},
   "source": [
    "### Define the design in a numpy array"
   ]
  },
  {
   "cell_type": "code",
   "execution_count": 4,
   "metadata": {},
   "outputs": [
    {
     "data": {
      "text/plain": [
       "<matplotlib.collections.PathCollection at 0x18bfa9cca60>"
      ]
     },
     "execution_count": 4,
     "metadata": {},
     "output_type": "execute_result"
    },
    {
     "data": {
      "image/png": "[encoded data removed]",
      "text/plain": [
       "<Figure size 360x360 with 1 Axes>"
      ]
     },
     "metadata": {
      "needs_background": "light"
     },
     "output_type": "display_data"
    }
   ],
   "source": [
    "design_nm = np.array([[ 0. ,  0. ],[ 1.1,  1.8],\n",
    "                   [ 2.2,  3.6],[ 3.2,  1.8],\n",
    "                   [ 3.1, -1.8],[ 4.2,  0. ],\n",
    "                   [ 2. , -3.6],[ 1. , -1.8]])#,\n",
    "plt.subplots(figsize=(5,5))\n",
    "plt.scatter(design_nm[:,0], design_nm[:,1])"
   ]
  },
  {
   "cell_type": "markdown",
   "metadata": {},
   "source": [
    "### Define obstacle coordinate\n",
    "Define atoms that might appear in the scanning frame, but will not be manipulated. Use the coordinate of the design. Set as None if there is not.  "
   ]
  },
  {
   "cell_type": "code",
   "execution_count": 5,
   "metadata": {},
   "outputs": [
    {
     "data": {
      "text/plain": [
       "<matplotlib.collections.PathCollection at 0x18b8ca3ae20>"
      ]
     },
     "execution_count": 5,
     "metadata": {},
     "output_type": "execute_result"
    },
    {
     "data": {
      "image/png": "[encoded data removed]",
      "text/plain": [
       "<Figure size 360x360 with 1 Axes>"
      ]
     },
     "metadata": {
      "needs_background": "light"
     },
     "output_type": "display_data"
    }
   ],
   "source": [
    "design_nm_left = np.array([[ 0. ,  0. ],[ 1.1,  1.8],\n",
    "                   [ 2.2,  3.6],[ 3.2,  1.8],\n",
    "                   [ 3.1, -1.8],\n",
    "                   [ 2. , -3.6],[ 1. , -1.8]])\n",
    "\n",
    "design_nm_right = np.array([[ 1.1,  1.8],\n",
    "                   [ 2.2,  3.6],[ 3.2,  1.8],\n",
    "                   [ 3.1, -1.8],[ 4.2,  0. ],\n",
    "                   [ 2. , -3.6],[ 1. , -1.8]])\n",
    "#TODO\n",
    "#Set obstacles coordinate values\n",
    "obstacles = np.concatenate((design_nm_left-np.array([4.2,0]),design_nm_right+np.array([4.2,0])))\n",
    "outside_obstacles = np.ones((obstacles.shape[0],3))\n",
    "outside_obstacles[:,:2] = obstacles\n",
    "plt.subplots(figsize=(5,5))\n",
    "plt.scatter(obstacles[:,0], obstacles[:,1])"
   ]
  },
  {
   "cell_type": "markdown",
   "metadata": {},
   "source": [
    "### Set the parameters and create a Structure_Builder object"
   ]
  },
  {
   "cell_type": "code",
   "execution_count": 13,
   "metadata": {},
   "outputs": [
    {
     "ename": "NameError",
     "evalue": "name 'win32com' is not defined",
     "output_type": "error",
     "traceback": [
      "\u001b[0;31m---------------------------------------------------------------------------\u001b[0m",
      "\u001b[0;31mNameError\u001b[0m                                 Traceback (most recent call last)",
      "\u001b[0;32m/var/folders/mm/95xps4kj035cyly7yx9l_0p40000gn/T/ipykernel_35329/2232724553.py\u001b[0m in \u001b[0;36m<module>\u001b[0;34m\u001b[0m\n\u001b[1;32m      4\u001b[0m \u001b[0mscan_mV\u001b[0m \u001b[0;34m=\u001b[0m \u001b[0;36m500\u001b[0m \u001b[0;31m#bias voltage\u001b[0m\u001b[0;34m\u001b[0m\u001b[0;34m\u001b[0m\u001b[0m\n\u001b[1;32m      5\u001b[0m \u001b[0mspeed\u001b[0m \u001b[0;34m=\u001b[0m \u001b[0;36m1200\u001b[0m \u001b[0;31m#scan speed (A/s)\u001b[0m\u001b[0;34m\u001b[0m\u001b[0;34m\u001b[0m\u001b[0m\n\u001b[0;32m----> 6\u001b[0;31m \u001b[0mcreatec_controller\u001b[0m \u001b[0;34m=\u001b[0m \u001b[0mCreatec_Controller\u001b[0m\u001b[0;34m(\u001b[0m\u001b[0;32mNone\u001b[0m\u001b[0;34m,\u001b[0m \u001b[0;32mNone\u001b[0m\u001b[0;34m,\u001b[0m \u001b[0;32mNone\u001b[0m\u001b[0;34m,\u001b[0m \u001b[0;32mNone\u001b[0m\u001b[0;34m)\u001b[0m\u001b[0;34m\u001b[0m\u001b[0;34m\u001b[0m\u001b[0m\n\u001b[0m\u001b[1;32m      7\u001b[0m \u001b[0mx_nm\u001b[0m\u001b[0;34m,\u001b[0m \u001b[0my_nm\u001b[0m \u001b[0;34m=\u001b[0m \u001b[0mcreatec_controller\u001b[0m\u001b[0;34m.\u001b[0m\u001b[0mget_offset_nm\u001b[0m\u001b[0;34m(\u001b[0m\u001b[0;34m)\u001b[0m\u001b[0;34m\u001b[0m\u001b[0;34m\u001b[0m\u001b[0m\n\u001b[1;32m      8\u001b[0m \u001b[0mlarge_offset_nm\u001b[0m \u001b[0;34m=\u001b[0m \u001b[0mnp\u001b[0m\u001b[0;34m.\u001b[0m\u001b[0marray\u001b[0m\u001b[0;34m(\u001b[0m\u001b[0;34m[\u001b[0m\u001b[0mx_nm\u001b[0m\u001b[0;34m,\u001b[0m \u001b[0my_nm\u001b[0m\u001b[0;34m]\u001b[0m\u001b[0;34m)\u001b[0m \u001b[0;31m#Set offset to current offset value\u001b[0m\u001b[0;34m\u001b[0m\u001b[0;34m\u001b[0m\u001b[0m\n",
      "\u001b[0;32m~/Desktop/Aalto Atomic Scale Physics/Atom_manipulation_with_RL_new/AMRL/Environment/createc_control.py\u001b[0m in \u001b[0;36m__init__\u001b[0;34m(self, im_size_nm, offset_nm, pixel, scan_mV)\u001b[0m\n\u001b[1;32m     41\u001b[0m         \u001b[0;32mif\u001b[0m \u001b[0mscan_mV\u001b[0m \u001b[0;32mis\u001b[0m \u001b[0;32mnot\u001b[0m \u001b[0;32mNone\u001b[0m\u001b[0;34m:\u001b[0m\u001b[0;34m\u001b[0m\u001b[0;34m\u001b[0m\u001b[0m\n\u001b[1;32m     42\u001b[0m             \u001b[0mself\u001b[0m\u001b[0;34m.\u001b[0m\u001b[0mscan_mV\u001b[0m \u001b[0;34m=\u001b[0m \u001b[0mscan_mV\u001b[0m\u001b[0;34m\u001b[0m\u001b[0;34m\u001b[0m\u001b[0m\n\u001b[0;32m---> 43\u001b[0;31m         \u001b[0mself\u001b[0m\u001b[0;34m.\u001b[0m\u001b[0mstm\u001b[0m\u001b[0;34m=\u001b[0m\u001b[0mwin32com\u001b[0m\u001b[0;34m.\u001b[0m\u001b[0mclient\u001b[0m\u001b[0;34m.\u001b[0m\u001b[0mDispatch\u001b[0m\u001b[0;34m(\u001b[0m\u001b[0;34m\"pstmafm.stmafmrem\"\u001b[0m\u001b[0;34m)\u001b[0m\u001b[0;34m\u001b[0m\u001b[0;34m\u001b[0m\u001b[0m\n\u001b[0m\u001b[1;32m     44\u001b[0m         \u001b[0;32mif\u001b[0m \u001b[0mself\u001b[0m\u001b[0;34m.\u001b[0m\u001b[0mstm\u001b[0m\u001b[0;34m.\u001b[0m\u001b[0mstmready\u001b[0m\u001b[0;34m(\u001b[0m\u001b[0;34m)\u001b[0m\u001b[0;34m==\u001b[0m\u001b[0;36m1\u001b[0m\u001b[0;34m:\u001b[0m\u001b[0;34m\u001b[0m\u001b[0;34m\u001b[0m\u001b[0m\n\u001b[1;32m     45\u001b[0m             \u001b[0mprint\u001b[0m\u001b[0;34m(\u001b[0m\u001b[0;34m'succeed to connect'\u001b[0m\u001b[0;34m)\u001b[0m\u001b[0;34m\u001b[0m\u001b[0;34m\u001b[0m\u001b[0m\n",
      "\u001b[0;31mNameError\u001b[0m: name 'win32com' is not defined"
     ]
    }
   ],
   "source": [
    "#Set STM scan parameters\n",
    "pixel = 128 \n",
    "large_len_nm = 9.033 #Image size in nm \n",
    "scan_mV = 500 #bias voltage\n",
    "speed = 1200 #scan speed (A/s)\n",
    "createc_controller = Createc_Controller(None, None, None, None)\n",
    "x_nm, y_nm = createc_controller.get_offset_nm()\n",
    "large_offset_nm = np.array([x_nm, y_nm]) #Set offset to current offset value\n",
    "\n",
    "\n",
    "step_nm = 0.4 #Set the radius of the manipulation start position relative the the atom start position\n",
    "goal_nm  = 2 #Set the radius of the manipulation end position relative the the atom start position\n",
    "max_mvolt = 15 #Set the maximum bias voltage in mV \n",
    "max_pcurrent_to_mvolt_ratio = 6E3 #Set the maximum conductance in pA/mV\n",
    "max_len = 5 #Set maximum episode length\n",
    "#Set the path to load CNN weight for the atom movement classifier\n",
    "current_jump  = 4 #Set the current jump gradient/ std(current) threshold required to take STM scan\n",
    "\n",
    "precision_lim = 0.288/np.sqrt(3) #Set the target precision for each atom manipulation episode\n",
    "safe_radius_nm = 1 #Set the safe distance between two atoms\n",
    "\n",
    "env = Structure_Builder(step_nm, max_mvolt, max_pcurrent_to_mvolt_ratio, goal_nm,\n",
    "                        current_jump, large_len_nm, large_offset_nm, pixel, scan_mV, max_len,\n",
    "                        speed = speed, precision_lim = precision_lim, safe_radius_nm = safe_radius_nm)"
   ]
  },
  {
   "cell_type": "markdown",
   "metadata": {},
   "source": [
    "### Define folder name for saving data"
   ]
  },
  {
   "cell_type": "code",
   "execution_count": 14,
   "metadata": {},
   "outputs": [
    {
     "name": "stdout",
     "output_type": "stream",
     "text": [
      "The new directory is created!\n"
     ]
    }
   ],
   "source": [
    "folder_name = 'C:/LocalUserData/User-data/phys-asp-lab/auto_manipulation/kagome_build_1/diamond_15'\n",
    "\n",
    "if not os.path.exists(folder_name):\n",
    "  # Create a new directory because it does not exist \n",
    "  os.makedirs(folder_name)\n",
    "  print(\"The new directory is created!\")"
   ]
  },
  {
   "cell_type": "markdown",
   "metadata": {},
   "source": [
    "### Set the parameters and start the building process"
   ]
  },
  {
   "cell_type": "code",
   "execution_count": 15,
   "metadata": {
    "scrolled": true
   },
   "outputs": [
    {
     "ename": "NameError",
     "evalue": "name 'env' is not defined",
     "output_type": "error",
     "traceback": [
      "\u001b[0;31m---------------------------------------------------------------------------\u001b[0m",
      "\u001b[0;31mNameError\u001b[0m                                 Traceback (most recent call last)",
      "\u001b[0;32m/var/folders/mm/95xps4kj035cyly7yx9l_0p40000gn/T/ipykernel_35329/1241576793.py\u001b[0m in \u001b[0;36m<module>\u001b[0;34m\u001b[0m\n\u001b[1;32m      7\u001b[0m \u001b[0manchor_position\u001b[0m \u001b[0;34m=\u001b[0m \u001b[0mnp\u001b[0m\u001b[0;34m.\u001b[0m\u001b[0marray\u001b[0m\u001b[0;34m(\u001b[0m\u001b[0;34m[\u001b[0m\u001b[0;34m-\u001b[0m\u001b[0;36m201\u001b[0m\u001b[0;34m,\u001b[0m\u001b[0;34m-\u001b[0m\u001b[0;36m80.7\u001b[0m\u001b[0;34m]\u001b[0m\u001b[0;34m)\u001b[0m\u001b[0;34m\u001b[0m\u001b[0;34m\u001b[0m\u001b[0m\n\u001b[1;32m      8\u001b[0m \u001b[0manchor_design\u001b[0m \u001b[0;34m=\u001b[0m \u001b[0mnp\u001b[0m\u001b[0;34m.\u001b[0m\u001b[0marray\u001b[0m\u001b[0;34m(\u001b[0m\u001b[0;34m[\u001b[0m \u001b[0;36m2.2\u001b[0m\u001b[0;34m,\u001b[0m  \u001b[0;36m3.6\u001b[0m\u001b[0;34m]\u001b[0m\u001b[0;34m)\u001b[0m\u001b[0;34m\u001b[0m\u001b[0;34m\u001b[0m\u001b[0m\n\u001b[0;32m----> 9\u001b[0;31m returns = env.reset_large(design_nm,\n\u001b[0m\u001b[1;32m     10\u001b[0m                   \u001b[0malign_design_mode\u001b[0m \u001b[0;34m=\u001b[0m \u001b[0;34m'manual'\u001b[0m\u001b[0;34m,\u001b[0m\u001b[0;34m\u001b[0m\u001b[0;34m\u001b[0m\u001b[0m\n\u001b[1;32m     11\u001b[0m                   \u001b[0malign_design_params\u001b[0m \u001b[0;34m=\u001b[0m \u001b[0;34m{\u001b[0m\u001b[0;34m'atom_nm'\u001b[0m\u001b[0;34m:\u001b[0m\u001b[0manchor_position\u001b[0m\u001b[0;34m,\u001b[0m \u001b[0;34m'design_nm'\u001b[0m\u001b[0;34m:\u001b[0m\u001b[0manchor_design\u001b[0m\u001b[0;34m,\u001b[0m \u001b[0;34m'obstacle_nm'\u001b[0m\u001b[0;34m:\u001b[0m\u001b[0moutside_obstacles\u001b[0m\u001b[0;34m}\u001b[0m\u001b[0;34m,\u001b[0m\u001b[0;34m\u001b[0m\u001b[0;34m\u001b[0m\u001b[0m\n",
      "\u001b[0;31mNameError\u001b[0m: name 'env' is not defined"
     ]
    }
   ],
   "source": [
    "#TODO\n",
    "#If align_design_mode = 'manual', one atom in the design is aligned with one atom in the STM image\n",
    "#We need to define anchor_position, anchor_design, and outside_obstacles.\n",
    "\n",
    "#If align_design_mode = 'auto', the structure is built wherever the total manipulation distance is minimized\n",
    "\n",
    "anchor_position = np.array([-201,-80.7])\n",
    "anchor_design = np.array([ 2.2,  3.6])\n",
    "returns = env.reset_large(design_nm,\n",
    "                  align_design_mode = 'manual',\n",
    "                  align_design_params = {'atom_nm':anchor_position, 'design_nm':anchor_design, 'obstacle_nm':outside_obstacles},\n",
    "                  sequence_mode = 'design')\n",
    "\n",
    "atom_chosen, design_chosen, next_destination_nm, path, anchor_chosen, offset_nm, len_nm = returns\n",
    "np.save(folder_name+'/{}_episode_img_info.npy'.format(-1),env.large_img_info)\n",
    "\n",
    "max_episodes = 30\n",
    "for i in range(max_episodes):\n",
    "    print('STEP:', i)\n",
    "    plot_large_frame(env.large_img_info, atom_chosen, design_chosen, anchor_chosen, next_destination_nm, path)\n",
    "    new_atom_position, dist_destination = RL_operation(env, agent, atom_chosen, next_destination_nm, anchor_chosen, offset_nm, len_nm, i)\n",
    "    succeed = dist_destination<env.precision_lim\n",
    "    atom_chosen, design_chosen, next_destination_nm, path, anchor_chosen, offset_nm, len_nm, done = env.step_large(succeed, new_atom_position)\n",
    "    if succeed:\n",
    "        print('Episode success, designs remain:', env.designs.shape[0], 'atoms remain:',env.atoms.shape[0])\n",
    "        done = (env.designs.shape[0] == 0) and (env.atoms.shape[0]==0)\n",
    "    np.save(folder_name+'/{}_episode_img_info.npy'.format(i), env.large_img_info)\n",
    "    if done:\n",
    "        break"
   ]
  },
  {
   "cell_type": "code",
   "execution_count": null,
   "metadata": {},
   "outputs": [],
   "source": []
  }
 ],
 "metadata": {
  "kernelspec": {
   "display_name": "Python 3",
   "language": "python",
   "name": "python3"
  },
  "language_info": {
   "codemirror_mode": {
    "name": "ipython",
    "version": 3
   },
   "file_extension": ".py",
   "mimetype": "text/x-python",
   "name": "python",
   "nbconvert_exporter": "python",
   "pygments_lexer": "ipython3",
   "version": "3.8.12"
  }
 },
 "nbformat": 4,
 "nbformat_minor": 5
}
