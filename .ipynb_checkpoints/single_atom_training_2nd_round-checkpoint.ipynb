{
 "cells": [
  {
   "cell_type": "code",
   "execution_count": 1,
   "metadata": {},
   "outputs": [
    {
     "name": "stdout",
     "output_type": "stream",
     "text": [
      "cuda:0\n"
     ]
    },
    {
     "data": {
      "image/png": "[encoded data removed]",
      "text/plain": [
       "<Figure size 432x288 with 1 Axes>"
      ]
     },
     "metadata": {
      "needs_background": "light"
     },
     "output_type": "display_data"
    }
   ],
   "source": [
    "import importlib\n",
    "from matplotlib import pyplot as plt\n",
    "plt.plot([1,2,3])\n",
    "from IPython.display import clear_output\n",
    "import matplotlib\n",
    "import numpy as np\n",
    "import pandas as pd\n",
    "import pdb\n",
    "import time\n",
    "from collections import deque\n",
    "import torch\n",
    "import cv2\n",
    "from Environment.Env_new import RealExpEnv\n",
    "from RL.sac import sac_agent, ReplayMemory, HerReplayMemory\n",
    "from Environment.data_visualization import plot_graph, show_reset, show_done, show_step\n",
    "from Environment.episode_memory import Episode_Memory\n",
    "from Environment.get_atom_coordinate import atom_detection, blob_detection, get_atom_coordinate_nm\n",
    "from skimage import morphology, measure\n",
    "from Environment.createc_control import Createc_Controller\n",
    "import glob\n",
    "from collections import deque\n",
    "matplotlib.rcParams['image.cmap'] = 'gray'\n",
    "device = torch.device('cuda:0' if torch.cuda.is_available() else 'cpu')\n",
    "print(device)"
   ]
  },
  {
   "cell_type": "code",
   "execution_count": 2,
   "metadata": {},
   "outputs": [
    {
     "name": "stdout",
     "output_type": "stream",
     "text": [
      "succeed to connect\n",
      "(128, 128)\n"
     ]
    },
    {
     "data": {
      "text/plain": [
       "<matplotlib.image.AxesImage at 0x208c81a5340>"
      ]
     },
     "execution_count": 2,
     "metadata": {},
     "output_type": "execute_result"
    },
    {
     "data": {
      "image/png": "[encoded data removed]",
      "text/plain": [
       "<Figure size 432x288 with 1 Axes>"
      ]
     },
     "metadata": {
      "needs_background": "light"
     },
     "output_type": "display_data"
    }
   ],
   "source": [
    "createc_controller = Createc_Controller(None, None, None, None)\n",
    "img_forward = np.array(createc_controller.stm.scandata(1,4))\n",
    "print(img_forward.shape)\n",
    "top_left, w, h = (115,7), 13, 13\n",
    "template = img_forward[top_left[1]:top_left[1]+h, top_left[0]:top_left[0]+w]\n",
    "plt.imshow(template)"
   ]
  },
  {
   "cell_type": "code",
   "execution_count": 3,
   "metadata": {},
   "outputs": [
    {
     "name": "stdout",
     "output_type": "stream",
     "text": [
      "16.95165252685547 -31.32630157470703\n"
     ]
    }
   ],
   "source": [
    "#test offset extration\n",
    "DAC_unit = 2**19\n",
    "volt_unit = 10\n",
    "Xgain = float(createc_controller.stm.getparam(\"GainX\"))\n",
    "Ygain = float(createc_controller.stm.getparam(\"GainY\"))\n",
    "Xpiezoconst = float(createc_controller.stm.getparam(\"Xpiezoconst\"))\n",
    "Ypiezoconst = float(createc_controller.stm.getparam(\"Ypiezoconst\"))\n",
    "x_nm = -0.1*Xpiezoconst*volt_unit*float(createc_controller.stm.getparam('OffsetX'))*Xgain/DAC_unit\n",
    "y_nm = -0.1*Ypiezoconst*volt_unit*float(createc_controller.stm.getparam('OffsetY'))*Ygain/DAC_unit\n",
    "print(x_nm, y_nm)"
   ]
  },
  {
   "cell_type": "code",
   "execution_count": 10,
   "metadata": {},
   "outputs": [
    {
     "name": "stdout",
     "output_type": "stream",
     "text": [
      "succeed to connect\n",
      "Load cnn weight\n"
     ]
    }
   ],
   "source": [
    "step_nm = 0.4\n",
    "max_mvolt = 15 #min_mvolt = 0.5*max_mvolt\n",
    "max_pcurrent_to_mvolt_ratio = 6E3 # min = 0.5*max\n",
    "goal_nm  = 2\n",
    "current_jump  = 4\n",
    "pixel = 128\n",
    "\n",
    "im_size_nm = 12.015\n",
    "\n",
    "offset_nm = np.array([x_nm, y_nm])\n",
    "manip_limit_nm = np.array([12, 19, -29.5, -22]) #[left, right, up, down]\n",
    "template_max_y = 25\n",
    "scan_mV = 1000\n",
    "max_len = 5\n",
    "env = RealExpEnv(step_nm, max_mvolt, max_pcurrent_to_mvolt_ratio, goal_nm, \n",
    "                 template, current_jump, im_size_nm, offset_nm, manip_limit_nm, pixel, \n",
    "                 template_max_y, scan_mV, max_len, 'atom_move_detector.pth', bottom=False, random_scan_rate = 0.8)\n"
   ]
  },
  {
   "cell_type": "code",
   "execution_count": 11,
   "metadata": {},
   "outputs": [],
   "source": [
    "batch_size= 64\n",
    "LEARNING_RATE = 0.0003\n",
    "replay_size=1000000\n",
    "\n",
    "agent = sac_agent(num_inputs = 4, num_actions = 6, action_space = None, device=device, hidden_size=256, lr=LEARNING_RATE,\n",
    "                 gamma=0.9, tau=0.005, alpha=1)\n",
    "#agent.critic.load_state_dict(torch.load('training_4/reward_2_critic_{}.pth'.format(2740)))\n",
    "#agent.policy.load_state_dict(torch.load('training_4/reward_2_policy_{}.pth'.format(2740)))\n",
    "#agent.alpha = torch.load('training_4/reward_2_alpha_{}.pth'.format(2740))\n",
    "memory = HerReplayMemory(replay_size, env)"
   ]
  },
  {
   "cell_type": "code",
   "execution_count": 12,
   "metadata": {},
   "outputs": [],
   "source": [
    "episode_memory = Episode_Memory()\n",
    "folder_name = 'C:/LocalUserData/User-data/phys-asp-lab/auto_manipulation/training_0'"
   ]
  },
  {
   "cell_type": "code",
   "execution_count": 13,
   "metadata": {},
   "outputs": [],
   "source": [
    "episode_rewards, alphas, precisions, episode_lengths = [], [], [], []\n",
    "avg__rewards, avg_alphas, avg_precisions, avg_episode_lengths = [], [], [], []\n",
    "c_k_min = 2500\n",
    "eta_0 = 0.996\n",
    "eta_T = 1.0\n",
    "n_interactions = 500\n",
    "max_ep_len = max_len\n",
    "def sac_train(max_steps, num_episodes = 50, episode_start = 0):\n",
    "    for i_episode in range(episode_start,episode_start+num_episodes):\n",
    "        print('Episode:', i_episode)\n",
    "        eta_t = np.minimum(eta_0 + (eta_T - eta_0)*(i_episode/n_interactions), eta_T)\n",
    "        episode_reward, episode_steps = 0, 0\n",
    "        done = False\n",
    "        state, info = env.reset()\n",
    "        show_reset(env.img_info, env.atom_start_absolute_nm, env.destination_absolute_nm,\n",
    "                   env.template_nm, env.template_wh)\n",
    "        episode_memory.update_memory_reset(env.img_info, i_episode, info)\n",
    "        print('old potential:',env.old_potential)\n",
    "        \n",
    "        for step in range(max_steps):\n",
    "            print('step:', step)\n",
    "            action = agent.select_action(state)\n",
    "            next_state, reward, done, info = env.step(action)\n",
    "            print('reward', reward)\n",
    "            \n",
    "            episode_steps+=1\n",
    "            episode_reward+=reward\n",
    "            mask = float(not done)\n",
    "            memory.push(state,action,reward,next_state,mask)\n",
    "            episode_memory.update_memory_step(state, action, next_state, reward, done, info)\n",
    "            \n",
    "            \n",
    "            if done:\n",
    "                episode_memory.update_memory_done(env.img_info, env.atom_absolute_nm, env.atom_relative_nm)\n",
    "                episode_memory.save_memory(folder_name)\n",
    "                \n",
    "                atom_to_start = env.atom_relative_nm - env.atom_start_relative_nm\n",
    "                print('Episode reward:', episode_reward)\n",
    "                show_done(env.img_info, env.atom_absolute_nm, env.atom_start_absolute_nm, \n",
    "                          env.destination_absolute_nm, reward, env.template_nm, env.template_wh)\n",
    "                break\n",
    "            else:\n",
    "                show_step(env.img_info, info['start_nm']+env.atom_absolute_nm, info['end_nm']+env.atom_absolute_nm,\n",
    "                        env.atom_absolute_nm, env.atom_start_absolute_nm, \n",
    "                        env.destination_absolute_nm, action[4]*env.max_mvolt, \n",
    "                        action[5]*env.max_pcurrent_to_mvolt_ratio*action[4]*env.max_mvolt, \n",
    "                        env.template_nm, env.template_wh)\n",
    "                state=next_state\n",
    "                \n",
    "                \n",
    "        if (len(memory)>batch_size):\n",
    "            episode_K = int(episode_steps)\n",
    "            for k in range(episode_K):\n",
    "                c_k = max(int(memory.__len__()*eta_t**(k*(max_ep_len/episode_K))), c_k_min)\n",
    "                #c_k = memory.__len__()\n",
    "                print('TRAINING!')\n",
    "                agent.update_parameters(memory, batch_size, c_k)\n",
    "        \n",
    "        episode_rewards.append(episode_reward)\n",
    "        alphas.append(agent.alpha)\n",
    "        precisions.append(env.dist_destination)\n",
    "        episode_lengths.append(episode_steps)\n",
    "        avg_pisode_rewards.append(np.mean(episode_rewards[-min(100,len(episode_rewards)):]))\n",
    "        avg_alphas.append(np.mean(alphas[-min(100, len(alphas)):]))\n",
    "        avg_precisions.append(np.mean(precisions[-min(100, len([precisions])):]))\n",
    "        avg_episode_lengths.append(episode_lengths[-min(100, len(episode_lengths))])\n",
    "        \n",
    "        if (i_episode+1)%2==0:\n",
    "            plot_graph(episode_rewards, precisions, alphas, episode_lengths,\n",
    "                      avg__rewards, avg_alphas, avg_precisions, avg_episode_lengths)\n",
    "            \n",
    "        if (i_episode)%20 == 0:\n",
    "            torch.save(agent.critic.state_dict(), '{}/_critic_{}.pth'.format(folder_name,i_episode))\n",
    "            torch.save(agent.policy.state_dict(), '{}/_policy_{}.pth'.format(folder_name,i_episode))\n",
    "            torch.save(agent.alpha, '{}/_alpha_{}.pth'.format(folder_name,i_episode))\n"
   ]
  },
  {
   "cell_type": "code",
   "execution_count": null,
   "metadata": {
    "scrolled": false
   },
   "outputs": [
    {
     "data": {
      "image/png": "[encoded data removed]",
      "text/plain": [
       "<Figure size 864x576 with 4 Axes>"
      ]
     },
     "metadata": {
      "needs_background": "light"
     },
     "output_type": "display_data"
    },
    {
     "name": "stdout",
     "output_type": "stream",
     "text": [
      "Episode: 10\n",
      "Warning: atom is out of limit\n",
      "pulling atom back to center\n",
      "42 27 49 69\n"
     ]
    }
   ],
   "source": [
    "sac_train(max_steps=max_len, episode_start = 0,num_episodes = 1000)"
   ]
  },
  {
   "cell_type": "code",
   "execution_count": 9,
   "metadata": {},
   "outputs": [],
   "source": [
    "env.atom_absolute_nm = None"
   ]
  },
  {
   "cell_type": "code",
   "execution_count": 6,
   "metadata": {},
   "outputs": [
    {
     "data": {
      "text/plain": [
       "array([[1, 1],\n",
       "       [1, 3],\n",
       "       [3, 2],\n",
       "       [6, 7],\n",
       "       [7, 7]])"
      ]
     },
     "execution_count": 6,
     "metadata": {},
     "output_type": "execute_result"
    }
   ],
   "source": [
    "import numpy as np\n",
    "a = np.array([[1,3],[3,2],[7,7],[6,7],[1,1]])\n",
    "np.array(sorted(a, key=lambda x: (x[0], x[1])))"
   ]
  },
  {
   "cell_type": "code",
   "execution_count": 7,
   "metadata": {},
   "outputs": [
    {
     "data": {
      "text/plain": [
       "array([[1, 3],\n",
       "       [7, 7],\n",
       "       [1, 1]])"
      ]
     },
     "execution_count": 7,
     "metadata": {},
     "output_type": "execute_result"
    }
   ],
   "source": [
    "np.delete(a,np.array([1,3]),axis=0)"
   ]
  }
 ],
 "metadata": {
  "kernelspec": {
   "display_name": "Python 3 (ipykernel)",
   "language": "python",
   "name": "python3"
  },
  "language_info": {
   "codemirror_mode": {
    "name": "ipython",
    "version": 3
   },
   "file_extension": ".py",
   "mimetype": "text/x-python",
   "name": "python",
   "nbconvert_exporter": "python",
   "pygments_lexer": "ipython3",
   "version": "3.9.5"
  }
 },
 "nbformat": 4,
 "nbformat_minor": 4
}
