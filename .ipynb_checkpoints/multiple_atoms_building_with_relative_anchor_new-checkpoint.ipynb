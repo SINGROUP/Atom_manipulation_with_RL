{
 "cells": [
  {
   "cell_type": "code",
   "execution_count": 6,
   "id": "87012119",
   "metadata": {},
   "outputs": [
    {
     "name": "stdout",
     "output_type": "stream",
     "text": [
      "cuda:0\n"
     ]
    },
    {
     "data": {
      "image/png": "[encoded data removed]",
      "text/plain": [
       "<Figure size 432x288 with 1 Axes>"
      ]
     },
     "metadata": {
      "needs_background": "light"
     },
     "output_type": "display_data"
    }
   ],
   "source": [
    "from matplotlib import pyplot as plt\n",
    "plt.plot([1,2,3])\n",
    "import numpy as np\n",
    "import scipy\n",
    "import scipy.spatial as spatial\n",
    "import copy\n",
    "from Environment.Builder_Env import Structure_Builder, circle, assignment\n",
    "from RL.sac import sac_agent\n",
    "import matplotlib\n",
    "import torch\n",
    "from Environment.data_visualization import show_reset, show_done, show_step, plot_large_frame\n",
    "from Environment.episode_memory import Episode_Memory\n",
    "matplotlib.rcParams['image.cmap'] = 'gray'\n",
    "device = torch.device('cuda:0' if torch.cuda.is_available() else 'cpu')\n",
    "print(device)"
   ]
  },
  {
   "cell_type": "code",
   "execution_count": 7,
   "id": "8d32fbce",
   "metadata": {},
   "outputs": [],
   "source": [
    "batch_size= 64\n",
    "LEARNING_RATE = 0.0003\n",
    "agent = sac_agent(num_inputs = 4, num_actions = 6, action_space = None, device=device, hidden_size=256, lr=LEARNING_RATE,\n",
    "                 gamma=0.9, tau=0.005, alpha=1)\n",
    "#agent.critic.load_state_dict(torch.load('training_4/critic_2500.pth'))\n",
    "#agent.policy.load_state_dict(torch.load('training_4/policy_2500.pth'))\n",
    "#agent.alpha = torch.load('training_4/alpha_2500.pth')\n",
    "episode_memory = Episode_Memory()"
   ]
  },
  {
   "cell_type": "code",
   "execution_count": 29,
   "id": "b5a6b029",
   "metadata": {},
   "outputs": [
    {
     "data": {
      "text/plain": [
       "<matplotlib.collections.PathCollection at 0x2078064b3a0>"
      ]
     },
     "execution_count": 29,
     "metadata": {},
     "output_type": "execute_result"
    },
    {
     "data": {
      "image/png": "[encoded data removed]",
      "text/plain": [
       "<Figure size 360x360 with 1 Axes>"
      ]
     },
     "metadata": {
      "needs_background": "light"
     },
     "output_type": "display_data"
    }
   ],
   "source": [
    "design_nm = np.array(circle(0,0,2.5,p=7)).T\n",
    "plt.subplots(figsize=(5,5))\n",
    "plt.scatter(design_nm[:,0], design_nm[:,1])\n",
    "plt."
   ]
  },
  {
   "cell_type": "code",
   "execution_count": 9,
   "id": "7641c89d",
   "metadata": {},
   "outputs": [
    {
     "name": "stdout",
     "output_type": "stream",
     "text": [
      "succeed to connect\n"
     ]
    }
   ],
   "source": [
    "step_nm = 0.4\n",
    "max_mvolt = 15 #min_mvolt = 0.5*max_mvolt\n",
    "max_pcurrent_to_mvolt_ratio = 6E3 # min = 0.5*max\n",
    "goal_nm  = 2\n",
    "current_jump  = 4\n",
    "large_len_nm = 9.033\n",
    "large_offset_nm = np.array([8.457,317.641])\n",
    "pixel = 128\n",
    "scan_mV = 1000\n",
    "max_len = 5\n",
    "env = Structure_Builder(step_nm, max_mvolt, max_pcurrent_to_mvolt_ratio, goal_nm, \n",
    "                 current_jump, large_len_nm, large_offset_nm, pixel, scan_mV, max_len)"
   ]
  },
  {
   "cell_type": "code",
   "execution_count": 10,
   "id": "2b97c86d",
   "metadata": {},
   "outputs": [],
   "source": [
    "num_steps = 10\n",
    "\n",
    "atom_chosen, design_chosen, anchor_chosen, offset_nm, len_nm = env.reset_large(design_nm)\n",
    "np.save(folder+'/{}_episode_img_info.npy'.format(-1),env.large_img_info)\n",
    "for i in range(num_steps):\n",
    "    plot_large_frame(env.large_img_info, atom_chosen, design_chosen, anchor_chosen)\n",
    "    \n",
    "    new_atom_position, dist_destination = RL_operation(env, agent, atom_chosen, design_chosen, anchor_chosen, offset_nm, len_nm)\n",
    "    succeed = dist_destination<env.precision_lim\n",
    "    atom_chosen, design_chosen, anchor_chosen, offset_nm, len_nm = env.step_large(succeed, new_atom_position)\n",
    "    np.save(folder+'/{}_episode_img_info.npy'.format(i), env.large_img_info)"
   ]
  },
  {
   "cell_type": "code",
   "execution_count": 25,
   "id": "c0a6871b",
   "metadata": {},
   "outputs": [
    {
     "data": {
      "text/plain": [
       "4"
      ]
     },
     "execution_count": 25,
     "metadata": {},
     "output_type": "execute_result"
    }
   ],
   "source": [
    "def RL_operation(env, agent, atom_chosen, design_chosen, anchor_chosen, offset_nm, len_nm, i_episode, max_steps=5):\n",
    "    done = False\n",
    "    state, info = env.reset(design_chosen, anchor_chosen, offset_nm, len_nm, large_len_nm)\n",
    "        \n",
    "    show_reset(env.img_info, env.atom_start_absolute_nm, env.destination_absolute_nm)\n",
    "    episode_memory.update_memory_reset(env.img_info, i_episode, info)\n",
    "    \n",
    "    for step in range(max_steps):\n",
    "        print('step:', step)\n",
    "        action = agent.select_action(state)\n",
    "        next_state, reward, done, info = env.step(action)\n",
    "        mask = float(not done)\n",
    "        episode_memory.update_memory_step(state, action, next_state, reward, done, info)\n",
    "        state=next_state\n",
    "        show_step(env.img_info, info['start_nm']+env.atom_absolute_nm, info['end_nm']+env.atom_absolute_nm,env.atom_absolute_nm, \n",
    "                  env.atom_start_absolute_nm, env.destination_absolute_nm, \n",
    "                  action[4]*env.max_mvolt, action[5]*env.max_pcurrent_to_mvolt_ratio*action[4]*env.max_mvolt)\n",
    "        if done:\n",
    "            episode_memory.update_memory_done(env.img_info, env.atom_absolute_nm, np.array([0,0]))\n",
    "            episode_memory.save_memory(folder)\n",
    "            break\n",
    "    return env.atom_absolute_nm, env.dist_destination"
   ]
  }
 ],
 "metadata": {
  "kernelspec": {
   "display_name": "Python 3 (ipykernel)",
   "language": "python",
   "name": "python3"
  },
  "language_info": {
   "codemirror_mode": {
    "name": "ipython",
    "version": 3
   },
   "file_extension": ".py",
   "mimetype": "text/x-python",
   "name": "python",
   "nbconvert_exporter": "python",
   "pygments_lexer": "ipython3",
   "version": "3.9.7"
  }
 },
 "nbformat": 4,
 "nbformat_minor": 5
}
