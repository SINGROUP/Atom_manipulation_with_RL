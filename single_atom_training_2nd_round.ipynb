{
 "cells": [
  {
   "cell_type": "code",
   "execution_count": 1,
   "metadata": {},
   "outputs": [
    {
     "name": "stdout",
     "output_type": "stream",
     "text": [
      "cuda:0\n"
     ]
    },
    {
     "data": {
      "image/png": "[encoded data removed]",
      "text/plain": [
       "<Figure size 432x288 with 1 Axes>"
      ]
     },
     "metadata": {
      "needs_background": "light"
     },
     "output_type": "display_data"
    }
   ],
   "source": [
    "import importlib\n",
    "from matplotlib import pyplot as plt\n",
    "plt.plot([1,2,3])\n",
    "from IPython.display import clear_output\n",
    "import matplotlib\n",
    "import numpy as np\n",
    "import pandas as pd\n",
    "import pdb\n",
    "import time\n",
    "from collections import deque\n",
    "import torch\n",
    "import cv2\n",
    "from Environment.Env_new import RealExpEnv\n",
    "from RL.sac import sac_agent, ReplayMemory, HerReplayMemory\n",
    "from Environment.data_visualization import plot_graph, show_reset, show_done, show_step\n",
    "from Environment.episode_memory import Episode_Memory\n",
    "from Environment.get_atom_coordinate import atom_detection, blob_detection, get_atom_coordinate_nm\n",
    "from skimage import morphology, measure\n",
    "from Environment.createc_control import Createc_Controller\n",
    "import glob\n",
    "from collections import deque\n",
    "matplotlib.rcParams['image.cmap'] = 'gray'\n",
    "device = torch.device('cuda:0' if torch.cuda.is_available() else 'cpu')\n",
    "print(device)"
   ]
  },
  {
   "cell_type": "code",
   "execution_count": 540,
   "metadata": {},
   "outputs": [],
   "source": [
    "import Environment.data_visualization\n",
    "importlib.reload(Environment.data_visualization)\n",
    "from Environment.data_visualization import plot_graph, show_reset, show_done, show_step"
   ]
  },
  {
   "cell_type": "code",
   "execution_count": 553,
   "metadata": {},
   "outputs": [],
   "source": [
    "import Environment.Env_new\n",
    "importlib.reload(Environment.Env_new)\n",
    "from Environment.Env_new import RealExpEnv"
   ]
  },
  {
   "cell_type": "code",
   "execution_count": 30,
   "metadata": {},
   "outputs": [],
   "source": [
    "import RL.sac\n",
    "importlib.reload(RL.sac)\n",
    "from RL.sac import sac_agent, ReplayMemory, HerReplayMemory"
   ]
  },
  {
   "cell_type": "code",
   "execution_count": 564,
   "metadata": {},
   "outputs": [
    {
     "name": "stdout",
     "output_type": "stream",
     "text": [
      "[0.7910447761194029, 0.5384615384615384, 0.6923076923076923, 0.746268656716418, 0.8153846153846154, 0.9104477611940298, 0.9104477611940298, 0.9384615384615385, 0.9846153846153847, 0.9848484848484849, 0.9420289855072463, 0.8923076923076924, 0.9538461538461539, 0.9701492537313433, 0.9558823529411765, 0.9538461538461539, 0.9104477611940298, 0.9384615384615385, 0.9130434782608695, 0.9538461538461539, 0.9848484848484849, 0.9411764705882353, 0.8823529411764706, 0.9538461538461539, 0.9701492537313433, 0.9090909090909091, 0.9701492537313433, 0.9852941176470589, 0.9253731343283582, 0.9846153846153847, 0.9558823529411765, 1.0, 0.9538461538461539, 0.9545454545454546, 0.9393939393939394, 0.9573732718894009, 0.9242424242424242, 0.9230769230769231, 0.9552238805970149, 0.9538461538461539, 0.9692307692307692, 0.9402985074626866, 0.9393939393939394, 0.9264705882352942, 0.9552238805970149, 0.9393939393939394, 0.9545454545454546, 0.9558823529411765, 0.9393939393939394, 0.9545454545454546, 0.9076923076923077, 0.9538461538461539, 0.9692307692307692, 0.9552238805970149, 0.9384615384615385, 0.8939393939393939, 0.9242424242424242, 0.8805970149253731, 0.9565217391304348, 0.9692307692307692, 0.9545454545454546, 0.9242424242424242, 0.9253731343283582, 0.9552238805970149, 0.9076923076923077, 1.0, 0.9538461538461539]\n",
      "[1.0, 1.0, 1.0, 1.0, 1.0, 0.9836065573770492, 0.90625, 0.9365079365079365, 1.0, 0.984375, 0.9411764705882353, 0.90625, 0.953125, 0.9692307692307692, 0.9846153846153847, 1.0, 0.9230769230769231, 0.9516129032258065, 0.96875, 0.9836065573770492, 0.9841269841269841, 0.9545454545454546, 0.90625, 0.9682539682539683, 0.96875, 0.9076923076923077, 1.0, 0.9848484848484849, 0.9384615384615385, 0.9836065573770492, 0.9848484848484849, 1.0, 0.9682539682539683, 0.9523809523809523, 0.9538461538461539, 0.9682352941176471, 0.9682539682539683, 0.9365079365079365, 0.9846153846153847, 0.953125, 0.96875, 0.9384615384615385, 0.9393939393939394, 0.9264705882352942, 0.9545454545454546, 0.9393939393939394, 0.9545454545454546, 0.9692307692307692, 0.9393939393939394, 0.9545454545454546, 0.9076923076923077, 0.9538461538461539, 0.9841269841269841, 0.9545454545454546, 0.9384615384615385, 0.8939393939393939, 0.9230769230769231, 0.8787878787878788, 0.9565217391304348, 0.9692307692307692, 0.9545454545454546, 0.9242424242424242, 0.9253731343283582, 0.9552238805970149, 0.9076923076923077, 1.0, 0.9538461538461539]\n",
      "[0.125, 0.09090909090909091, 0.13043478260869565, 0.19047619047619047, 0.0, 0.16666666666666666, 1.0, 1.0, 0.6666666666666666, 1.0, 1.0, 0.0, 1.0, 1.0, 0.3333333333333333, 0.5, 0.5, 0.6666666666666666, 0.2, 0.5, 1.0, 0.5, 0.5, 0.5, 1.0, 1.0, 0.0, 1.0, 0.5, 1.0, 0.0, 1.0, 0.5, 1.0, 0.0, 0.4444444444444444, 0.0, 0.5, 0.0, 1.0, 1.0, 1.0, 0.0, 0.0, 1.0, 0.0, 0.0, 0.6666666666666666, 0.0, 0.0, 0.0, 0.0, 0.5, 1.0, 0.0, 0.0, 1.0, 1.0, 0.0, 0.0, 0.0, 0.0, 0.0, 0.0, 0.0, 1.0, 0.0]\n"
     ]
    }
   ],
   "source": [
    "# run this if want to reset env but keep the memory\n",
    "amd_accuracy = copy.copy(env.accuracy)\n",
    "print(amd_accuracy)\n",
    "amd_true_positive = copy.copy(env.true_positive)\n",
    "print(amd_true_positive)\n",
    "amd_true_negative = copy.copy(env.true_negative)\n",
    "print(amd_true_negative)\n",
    "amd = copy.copy(env.atom_move_detector)"
   ]
  },
  {
   "cell_type": "code",
   "execution_count": 566,
   "metadata": {},
   "outputs": [
    {
     "name": "stdout",
     "output_type": "stream",
     "text": [
      "succeed to connect\n",
      "(128, 128)\n"
     ]
    },
    {
     "data": {
      "text/plain": [
       "<matplotlib.image.AxesImage at 0x1f7a95c9f70>"
      ]
     },
     "execution_count": 566,
     "metadata": {},
     "output_type": "execute_result"
    },
    {
     "data": {
      "image/png": "[encoded data removed]",
      "text/plain": [
       "<Figure size 432x288 with 1 Axes>"
      ]
     },
     "metadata": {
      "needs_background": "light"
     },
     "output_type": "display_data"
    }
   ],
   "source": [
    "createc_controller = Createc_Controller(None, None, None, None)\n",
    "img_forward = np.array(createc_controller.stm.scandata(1,4))\n",
    "print(img_forward.shape)\n",
    "top_left, w, h = (10,5), 15, 15\n",
    "template = img_forward[top_left[1]:top_left[1]+h, top_left[0]:top_left[0]+w]\n",
    "plt.imshow(template)"
   ]
  },
  {
   "cell_type": "code",
   "execution_count": 567,
   "metadata": {},
   "outputs": [
    {
     "name": "stdout",
     "output_type": "stream",
     "text": [
      "-17.62152099609375 -38.50459289550781\n"
     ]
    }
   ],
   "source": [
    "#test offset extration\n",
    "DAC_unit = 2**19\n",
    "volt_unit = 10\n",
    "Xgain = float(createc_controller.stm.getparam(\"GainX\"))\n",
    "Ygain = float(createc_controller.stm.getparam(\"GainY\"))\n",
    "Xpiezoconst = float(createc_controller.stm.getparam(\"Xpiezoconst\"))\n",
    "Ypiezoconst = float(createc_controller.stm.getparam(\"Ypiezoconst\"))\n",
    "x_nm = -0.1*Xpiezoconst*volt_unit*float(createc_controller.stm.getparam('OffsetX'))*Xgain/DAC_unit\n",
    "y_nm = -0.1*Ypiezoconst*volt_unit*float(createc_controller.stm.getparam('OffsetY'))*Ygain/DAC_unit\n",
    "print(x_nm, y_nm)"
   ]
  },
  {
   "cell_type": "code",
   "execution_count": 568,
   "metadata": {},
   "outputs": [
    {
     "name": "stdout",
     "output_type": "stream",
     "text": [
      "succeed to connect\n",
      "Load cnn weight\n"
     ]
    }
   ],
   "source": [
    "step_nm = 0.4\n",
    "max_mvolt = 15 #min_mvolt = 0.5*max_mvolt\n",
    "max_pcurrent_to_mvolt_ratio = 6E3 # min = 0.5*max\n",
    "goal_nm  = 2\n",
    "current_jump  = 3\n",
    "pixel = 128\n",
    "\n",
    "im_size_nm = 8.491\n",
    "\n",
    "offset_nm = np.array([x_nm, y_nm])\n",
    "manip_limit_nm = np.array([-19.5, -13.9, -37, -30.5]) #[left, right, up, down]\n",
    "template_max_y = 25\n",
    "scan_mV = 1000\n",
    "max_len = 5\n",
    "env = RealExpEnv(step_nm, max_mvolt, max_pcurrent_to_mvolt_ratio, goal_nm, \n",
    "                 template, current_jump, im_size_nm, offset_nm, manip_limit_nm, pixel, \n",
    "                 template_max_y, scan_mV, max_len, 'atom_move_detector.pth', bottom=False, random_scan_rate = 0.9)\n"
   ]
  },
  {
   "cell_type": "code",
   "execution_count": 569,
   "metadata": {},
   "outputs": [],
   "source": [
    "# run this if want to reset env but keep the memory\n",
    "env.accuracy = amd_accuracy\n",
    "env.true_positive = amd_true_positive\n",
    "env.true_negative = amd_true_negative\n",
    "env.atom_move_detector = amd"
   ]
  },
  {
   "cell_type": "code",
   "execution_count": 559,
   "metadata": {},
   "outputs": [],
   "source": [
    "c_v, a_v = [], []\n",
    "for c, a in zip(env.atom_move_detector.currents_val, env.atom_move_detector.atom_move_by_val):\n",
    "    if (c is not None) and (a is not None):\n",
    "        c_v.append(c)\n",
    "        a_v.append(a)\n",
    "    elif c is None:\n",
    "        print('c None')\n",
    "    elif a is None:\n",
    "        print('a None')"
   ]
  },
  {
   "cell_type": "code",
   "execution_count": 535,
   "metadata": {},
   "outputs": [],
   "source": [
    "env.atom_move_detector.currents_val = c_v\n",
    "env.atom_move_detector.atom_move_by_val = a_v"
   ]
  },
  {
   "cell_type": "code",
   "execution_count": 450,
   "metadata": {},
   "outputs": [
    {
     "name": "stdout",
     "output_type": "stream",
     "text": [
      "3142\n"
     ]
    }
   ],
   "source": [
    "for i, np_name in enumerate(glob.glob(folder_name+'/*.npy')):\n",
    "    data = np.load(np_name,allow_pickle=True).item()\n",
    "    transitions = data['transitions']\n",
    "    for s, a, r, n, d, info in zip(transitions['state'], transitions['action'], transitions['reward'], \n",
    "                                   transitions['next_state'], transitions['done'], transitions['info']):\n",
    "        mask = float(not d)\n",
    "        memory.push(s, a, r, n, mask)\n",
    "print(len(memory))"
   ]
  },
  {
   "cell_type": "code",
   "execution_count": 570,
   "metadata": {},
   "outputs": [
    {
     "name": "stdout",
     "output_type": "stream",
     "text": [
      "6374\n"
     ]
    }
   ],
   "source": [
    "# run this if want to reset env but keep the memory\n",
    "buffer = memory.buffer\n",
    "memory = HerReplayMemory(replay_size, env)\n",
    "memory.buffer = buffer\n",
    "print(len(memory))"
   ]
  },
  {
   "cell_type": "code",
   "execution_count": 5,
   "metadata": {},
   "outputs": [],
   "source": [
    "# ONLY RE-RUN if WANT TO RESET the AGENT\n",
    "batch_size= 64\n",
    "LEARNING_RATE = 0.0003\n",
    "replay_size=1000000\n",
    "\n",
    "agent = sac_agent(num_inputs = 4, num_actions = 6, action_space = None, device=device, hidden_size=256, lr=LEARNING_RATE,\n",
    "                 gamma=0.9, tau=0.005, alpha=1)\n",
    "agent.critic.load_state_dict(torch.load('{}/_critic_{}.pth'.format(folder_name,60)))\n",
    "agent.policy.load_state_dict(torch.load('{}/_policy_{}.pth'.format(folder_name,60)))\n",
    "agent.alpha = torch.load(''{}/_alpha_{}.pth'.format(folder_name,i_episode))\n",
    "memory = HerReplayMemory(replay_size, env)"
   ]
  },
  {
   "cell_type": "code",
   "execution_count": 6,
   "metadata": {},
   "outputs": [],
   "source": [
    "episode_memory = Episode_Memory()\n",
    "folder_name = 'C:/LocalUserData/User-data/phys-asp-lab/auto_manipulation/training_0'"
   ]
  },
  {
   "cell_type": "code",
   "execution_count": null,
   "metadata": {},
   "outputs": [],
   "source": [
    "episode_rewards, alphas, precisions, episode_lengths = [], [], [], []\n",
    "avg_episode_rewards, avg_alphas, avg_precisions, avg_episode_lengths = [], [], [], []"
   ]
  },
  {
   "cell_type": "code",
   "execution_count": 562,
   "metadata": {},
   "outputs": [],
   "source": [
    "c_k_min = 2500\n",
    "eta_0 = 0.996\n",
    "eta_T = 1.0\n",
    "n_interactions = 500\n",
    "max_ep_len = max_len\n",
    "def sac_train(max_steps, num_episodes = 50, episode_start = 0):\n",
    "    for i_episode in range(episode_start,episode_start+num_episodes):\n",
    "        print('Episode:', i_episode)\n",
    "        eta_t = np.minimum(eta_0 + (eta_T - eta_0)*(i_episode/n_interactions), eta_T)\n",
    "        episode_reward, episode_steps = 0, 0\n",
    "        done = False\n",
    "        state, info = env.reset(update_conv_net=False)\n",
    "        show_reset(env.img_info, env.atom_start_absolute_nm, env.destination_absolute_nm,\n",
    "                   env.template_nm, env.template_wh)\n",
    "        episode_memory.update_memory_reset(env.img_info, i_episode, info)\n",
    "        \n",
    "        for step in range(max_steps):\n",
    "            print('step:', step)\n",
    "            action = agent.select_action(state)\n",
    "            old_atom_nm = env.atom_absolute_nm\n",
    "            next_state, reward, done, info = env.step(action)\n",
    "            print('reward', reward)\n",
    "            \n",
    "            episode_steps+=1\n",
    "            episode_reward+=reward\n",
    "            mask = float(not done)\n",
    "            memory.push(state,action,reward,next_state,mask)\n",
    "            episode_memory.update_memory_step(state, action, next_state, reward, done, info)\n",
    "            show_step(env.img_info, info['start_nm']+old_atom_nm, info['end_nm']+old_atom_nm,\n",
    "                        env.atom_absolute_nm, env.atom_start_absolute_nm, \n",
    "                        env.destination_absolute_nm, action[4]*env.max_mvolt, \n",
    "                        action[5]*env.max_pcurrent_to_mvolt_ratio*action[4]*env.max_mvolt, \n",
    "                        env.template_nm, env.template_wh)\n",
    "            print('Precision:', env.dist_destination)\n",
    "            if done:\n",
    "                episode_memory.update_memory_done(env.img_info, env.atom_absolute_nm, env.atom_relative_nm)\n",
    "                episode_memory.save_memory(folder_name)\n",
    "                \n",
    "                atom_to_start = env.atom_relative_nm - env.atom_start_relative_nm\n",
    "                print('Episode reward:', episode_reward)\n",
    "                '''show_done(env.img_info, env.atom_absolute_nm, env.atom_start_absolute_nm, \n",
    "                          env.destination_absolute_nm, reward, env.template_nm, env.template_wh)'''\n",
    "                break\n",
    "            else:                \n",
    "                state=next_state\n",
    "             \n",
    "        if (len(memory)>batch_size):\n",
    "            episode_K = int(episode_steps)\n",
    "            for k in range(episode_K):\n",
    "                c_k = max(int(memory.__len__()*eta_t**(k*(max_ep_len/episode_K))), c_k_min)\n",
    "                #c_k = memory.__len__()\n",
    "                #print('TRAINING!')\n",
    "                agent.update_parameters(memory, batch_size, c_k)\n",
    "        \n",
    "        episode_rewards.append(episode_reward)\n",
    "        alphas.append(agent.alpha.item())\n",
    "        precisions.append(env.dist_destination)\n",
    "        episode_lengths.append(episode_steps)\n",
    "        avg_episode_rewards.append(np.mean(episode_rewards[-min(100,len(episode_rewards)):]))\n",
    "        avg_alphas.append(np.mean(alphas[-min(100, len(alphas)):]))\n",
    "        avg_precisions.append(np.mean(precisions[-min(100, len(precisions)):]))\n",
    "        avg_episode_lengths.append(np.mean(episode_lengths[-min(100, len(episode_lengths)):]))\n",
    "        \n",
    "        if (i_episode+1)%2==0:\n",
    "            plot_graph(episode_rewards, precisions, alphas, episode_lengths,\n",
    "                      avg_episode_rewards, avg_alphas, avg_precisions, avg_episode_lengths)\n",
    "            \n",
    "        if (i_episode)%20 == 0:\n",
    "            torch.save(agent.critic.state_dict(), '{}/_critic_{}.pth'.format(folder_name,i_episode))\n",
    "            torch.save(agent.policy.state_dict(), '{}/_policy_{}.pth'.format(folder_name,i_episode))\n",
    "            torch.save(agent.alpha, '{}/_alpha_{}.pth'.format(folder_name,i_episode))\n"
   ]
  },
  {
   "cell_type": "code",
   "execution_count": null,
   "metadata": {
    "scrolled": false
   },
   "outputs": [
    {
     "name": "stdout",
     "output_type": "stream",
     "text": [
      "Episode: 2072\n",
      "The scan will take 13.1 seconds\n",
      "0.010992784366134682\n",
      "0.011190921883769774\n",
      "goal_nm: 0.768996832839291\n"
     ]
    },
    {
     "data": {
      "image/png": "[encoded data removed]",
      "text/plain": [
       "<Figure size 432x288 with 1 Axes>"
      ]
     },
     "metadata": {
      "needs_background": "light"
     },
     "output_type": "display_data"
    },
    {
     "name": "stdout",
     "output_type": "stream",
     "text": [
      "step: 0\n",
      "51 77 60 91\n"
     ]
    }
   ],
   "source": [
    "sac_train(max_steps=max_len, episode_start = 2072,num_episodes = 2000)"
   ]
  },
  {
   "cell_type": "code",
   "execution_count": 521,
   "metadata": {},
   "outputs": [],
   "source": [
    "env.atom_absolute_nm = None"
   ]
  },
  {
   "cell_type": "code",
   "execution_count": 463,
   "metadata": {},
   "outputs": [],
   "source": [
    "dist_ds = []\n",
    "for i, np_name in enumerate(glob.glob(folder_name+'/*.npy')):\n",
    "    data = np.load(np_name,allow_pickle=True).item()\n",
    "    end = data['episode_end_info']['atom_absolute_nm']\n",
    "    goal = data['episode_start_info']['info']['goal_absolute_nm']\n",
    "    dist_ds.append(np.linalg.norm(end - goal))"
   ]
  },
  {
   "cell_type": "code",
   "execution_count": 485,
   "metadata": {},
   "outputs": [
    {
     "data": {
      "text/plain": [
       "(0.0, 750.0)"
      ]
     },
     "execution_count": 485,
     "metadata": {},
     "output_type": "execute_result"
    },
    {
     "data": {
      "image/png": "[encoded data removed]",
      "text/plain": [
       "<Figure size 432x360 with 1 Axes>"
      ]
     },
     "metadata": {
      "needs_background": "light"
     },
     "output_type": "display_data"
    }
   ],
   "source": [
    "plt.subplots(figsize=(6,5))\n",
    "plt.plot(dist_ds, color='#707070', alpha=0.5)\n",
    "plt.plot(np.arange(100,len(dist_ds)-1),np.convolve(dist_ds, np.ones(100))[100:-100]/100, color='#A566CC', linewidth=5)\n",
    "plt.xlabel('Episodes', fontsize=16)\n",
    "plt.ylabel('Precision (nm)', fontsize=16)\n",
    "plt.ylim([0, 2])\n",
    "plt.xlim([0, 750])\n",
    "# can we draw a horizontal line marking the 'ultimate precision'?\n",
    "# using i.e. plt.hline()"
   ]
  }
 ],
 "metadata": {
  "kernelspec": {
   "display_name": "Python 3 (ipykernel)",
   "language": "python",
   "name": "python3"
  },
  "language_info": {
   "codemirror_mode": {
    "name": "ipython",
    "version": 3
   },
   "file_extension": ".py",
   "mimetype": "text/x-python",
   "name": "python",
   "nbconvert_exporter": "python",
   "pygments_lexer": "ipython3",
   "version": "3.9.5"
  }
 },
 "nbformat": 4,
 "nbformat_minor": 4
}
