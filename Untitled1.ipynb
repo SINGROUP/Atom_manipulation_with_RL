{
 "cells": [
  {
   "cell_type": "code",
   "execution_count": 1,
   "id": "da1e198d",
   "metadata": {},
   "outputs": [],
   "source": [
    "from Environment.createc_control import Createc_Controller"
   ]
  },
  {
   "cell_type": "code",
   "execution_count": 2,
   "id": "16b1f786",
   "metadata": {},
   "outputs": [
    {
     "name": "stdout",
     "output_type": "stream",
     "text": [
      "succeed to connect\n"
     ]
    }
   ],
   "source": [
    "createc_controller = Createc_Controller(None, None, None, None)\n"
   ]
  },
  {
   "cell_type": "code",
   "execution_count": 4,
   "id": "c34e98b9",
   "metadata": {},
   "outputs": [
    {
     "name": "stdout",
     "output_type": "stream",
     "text": [
      "offset nm: (-90.65405082702638, -87.25933074951172) len nm: 10.02685546875\n"
     ]
    }
   ],
   "source": [
    "createc_controller.tip_form(2, -89, -82)"
   ]
  }
 ],
 "metadata": {
  "kernelspec": {
   "display_name": "Python 3 (ipykernel)",
   "language": "python",
   "name": "python3"
  },
  "language_info": {
   "codemirror_mode": {
    "name": "ipython",
    "version": 3
   },
   "file_extension": ".py",
   "mimetype": "text/x-python",
   "name": "python",
   "nbconvert_exporter": "python",
   "pygments_lexer": "ipython3",
   "version": "3.9.5"
  }
 },
 "nbformat": 4,
 "nbformat_minor": 5
}
